{
 "cells": [
  {
   "cell_type": "code",
   "execution_count": 11,
   "id": "44abef35-90c1-4d04-9f84-729fe159ee8b",
   "metadata": {},
   "outputs": [
    {
     "name": "stdout",
     "output_type": "stream",
     "text": [
      "{'Churn Prediction': 1, 'Churn Probability': 1.0}\n"
     ]
    }
   ],
   "source": [
    "import requests\n",
    "\n",
    "# URL of your local API\n",
    "url = 'http://127.0.0.1:5000/predict'\n",
    "\n",
    "# Example customer data\n",
    "data = {\n",
    "    \"gender\": 0,\n",
    "    \"SeniorCitizen\": 0,\n",
    "    \"Partner\": 1,\n",
    "    \"Dependents\": 0,\n",
    "    \"tenure\": 5,\n",
    "    \"PhoneService\": 1,\n",
    "    \"PaperlessBilling\": 1,\n",
    "    \"MonthlyCharges\": 70.35,\n",
    "    \"TotalCharges\": 350.5,\n",
    "    \"MultipleLines_No phone service\": 0,\n",
    "    \"MultipleLines_Yes\": 1,\n",
    "    \"InternetService_Fiber optic\": 1,\n",
    "    \"InternetService_No\": 0,\n",
    "    \"OnlineSecurity_No internet service\": 0,\n",
    "    \"OnlineSecurity_Yes\": 1,\n",
    "    \"OnlineBackup_No internet service\": 0,\n",
    "    \"OnlineBackup_Yes\": 0,\n",
    "    \"DeviceProtection_No internet service\": 0,\n",
    "    \"DeviceProtection_Yes\": 1,\n",
    "    \"TechSupport_No internet service\": 0,\n",
    "    \"TechSupport_Yes\": 1,\n",
    "    \"StreamingTV_No internet service\": 0,\n",
    "    \"StreamingTV_Yes\": 1,\n",
    "    \"StreamingMovies_No internet service\": 0,\n",
    "    \"StreamingMovies_Yes\": 1,\n",
    "    \"Contract_One year\": 0,\n",
    "    \"Contract_Two year\": 0,\n",
    "    \"PaymentMethod_Credit card (automatic)\": 1,\n",
    "    \"PaymentMethod_Electronic check\": 0,\n",
    "    \"PaymentMethod_Mailed check\": 0\n",
    "}\n",
    "\n",
    "\n",
    "# Send POST request\n",
    "response = requests.post(url, json=data)\n",
    "\n",
    "# Print the prediction\n",
    "print(response.json())\n"
   ]
  },
  {
   "cell_type": "code",
   "execution_count": null,
   "id": "f92e7da9-b529-4b41-b4a3-3fa3adcca709",
   "metadata": {},
   "outputs": [],
   "source": []
  }
 ],
 "metadata": {
  "kernelspec": {
   "display_name": "Python 3 (ipykernel)",
   "language": "python",
   "name": "python3"
  },
  "language_info": {
   "codemirror_mode": {
    "name": "ipython",
    "version": 3
   },
   "file_extension": ".py",
   "mimetype": "text/x-python",
   "name": "python",
   "nbconvert_exporter": "python",
   "pygments_lexer": "ipython3",
   "version": "3.12.7"
  }
 },
 "nbformat": 4,
 "nbformat_minor": 5
}
